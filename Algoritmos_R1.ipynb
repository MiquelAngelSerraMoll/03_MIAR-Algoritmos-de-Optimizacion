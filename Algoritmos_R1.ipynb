{
 "cells": [
  {
   "cell_type": "markdown",
   "metadata": {
    "id": "kQn6fbhgtH9I"
   },
   "source": [
    "# Algoritmos de optimización - Reto 1\n",
    "\n",
    "Nombre: Miquel Angel Serra Moll\n",
    "\n",
    "Github:"
   ]
  },
  {
   "cell_type": "markdown",
   "metadata": {
    "id": "_t62Ge7ZuKnC"
   },
   "source": [
    "## Torres de Hanoi con Divide y vencerás\n",
    "\n",
    "Resuelve el problema de las [Torres de Hanoi](https://es.wikipedia.org/wiki/Torres_de_Han%C3%B3i) para un número arbitrario de fichas utilizando la técnica de divide y vencerás. "
   ]
  },
  {
   "cell_type": "code",
   "execution_count": 13,
   "metadata": {
    "colab": {
     "base_uri": "https://localhost:8080/"
    },
    "id": "i32G0CUQvauE",
    "outputId": "c3398cec-661d-46a5-b9db-0a0ad168f64a"
   },
   "outputs": [
    {
     "name": "stdin",
     "output_type": "stream",
     "text": [
      "Defina el número de discos:  3\n"
     ]
    },
    {
     "name": "stdout",
     "output_type": "stream",
     "text": [
      "I a III\n",
      "I a II\n",
      "III a II\n",
      "I a III\n",
      "II a I\n",
      "II a III\n",
      "I a III\n"
     ]
    }
   ],
   "source": [
    "# Torres de Hanoi\n",
    "\n",
    "\"\"\"\n",
    "n representa el número de discos a mover\n",
    "I es la posición de la torre que hay que resolver \n",
    "III es la posición destino\n",
    "II es la posición pivote\n",
    "\n",
    "Mediante la recursividad, la función torreshanoi se va llamando múltiples veces \n",
    "intercamiando las posiciones de las torres y en número de discos a mover. \n",
    "\n",
    "\"\"\"\n",
    "\n",
    "def torreshanoi (n, I, III, II):\n",
    "\n",
    "    if n==1:\n",
    "        print(I, \"a\", III)\n",
    "\n",
    "    else:\n",
    "        torreshanoi(n - 1, I, II, III)\n",
    "        print(I, \"a\", III)\n",
    "        torreshanoi(n - 1, II, III, I)\n",
    "\n",
    "\n",
    "try:\n",
    "    piezas = int(input(\"Defina el número de discos: \"))\n",
    "    torreshanoi(piezas, \"I\", \"III\", \"II\")\n",
    "    \n",
    "except ValueError:\n",
    "    print(\"Introduzca un número entero positivo.\")\n",
    "\n"
   ]
  },
  {
   "cell_type": "markdown",
   "metadata": {},
   "source": [
    "## Sucesión de Fibonacci\n",
    "\n",
    "Cálcula el n-ésimo término de la [Sucesión de Fibonacci](https://es.wikipedia.org/wiki/Sucesi%C3%B3n_de_Fibonacci) mediante un algoritmo recursivo y otro iterativo. Representa gráficamente cómo crece el tiempo de cómputo en función del número de términos para ambos algoritmos. "
   ]
  },
  {
   "cell_type": "code",
   "execution_count": 58,
   "metadata": {},
   "outputs": [],
   "source": [
    "import numpy as np\n",
    "import pandas as pd\n",
    "import time\n",
    "from prettytable import PrettyTable\n",
    "import matplotlib.pyplot as plt"
   ]
  },
  {
   "cell_type": "code",
   "execution_count": 37,
   "metadata": {
    "colab": {
     "base_uri": "https://localhost:8080/"
    },
    "id": "74qZZAekiNYR",
    "outputId": "acc17268-7f87-4de4-ae5a-4fc6ce09d385"
   },
   "outputs": [
    {
     "name": "stdin",
     "output_type": "stream",
     "text": [
      "Defina el n-ésimo término de la Sucesión de Fibonacci:  6\n"
     ]
    },
    {
     "name": "stdout",
     "output_type": "stream",
     "text": [
      "5\n",
      "{'Recursive': [1.4066696166992188e-05, 9.5367431640625e-07, 1.9073486328125e-06, 1.1920928955078125e-06, 1.9073486328125e-06, 3.814697265625e-06, 6.198883056640625e-06, 9.775161743164062e-06, 1.4066696166992188e-05]}\n"
     ]
    }
   ],
   "source": [
    "#Sucesión_de_Fibonacci recursiva\n",
    "\n",
    "def fibonacci(n):\n",
    "\n",
    "    if (n==1) or (n==2):\n",
    "        return n-1\n",
    "\n",
    "    else:\n",
    "        return fibonacci(n-1) + fibonacci(n-2)\n",
    "\n",
    "try:\n",
    "    n = int(input(\"Defina el n-ésimo término de la Sucesión de Fibonacci: \"))\n",
    "    print(fibonacci(n))\n",
    "    \n",
    "except ValueError:\n",
    "    print(\"Introduzca un número entero positivo.\")"
   ]
  },
  {
   "cell_type": "code",
   "execution_count": 57,
   "metadata": {},
   "outputs": [
    {
     "name": "stdin",
     "output_type": "stream",
     "text": [
      "Defina el n-ésimo término de la Sucesión de Fibonacci:  5\n"
     ]
    },
    {
     "name": "stdout",
     "output_type": "stream",
     "text": [
      "3\n"
     ]
    }
   ],
   "source": [
    "#Sucesión_de_Fibonacci iterativa\n",
    "\n",
    "def fibonacci2(n):\n",
    "    filist=[]\n",
    "    for i in range (0,n):\n",
    "        \n",
    "    \n",
    "        if i==0:\n",
    "            filist.append(i)\n",
    "    \n",
    "        elif i==1:\n",
    "            filist.append(i)\n",
    "    \n",
    "        else:\n",
    "            filist.append(filist[i-1] + filist[i-2])\n",
    "\n",
    "    return filist[n-1]\n",
    "\n",
    "try:\n",
    "    n = int(input(\"Defina el n-ésimo término de la Sucesión de Fibonacci: \"))\n",
    "    print(fibonacci2(n))\n",
    "    \n",
    "except ValueError:\n",
    "    print(\"Introduzca un número entero positivo.\")"
   ]
  },
  {
   "cell_type": "code",
   "execution_count": 62,
   "metadata": {},
   "outputs": [
    {
     "name": "stdout",
     "output_type": "stream",
     "text": [
      "{'Recursivo': [5.245208740234375e-06, 0.0, 1.9073486328125e-06, 9.5367431640625e-07, 1.9073486328125e-06, 2.1457672119140625e-06, 2.86102294921875e-06, 4.76837158203125e-06, 6.9141387939453125e-06, 1.0013580322265625e-05, 1.621246337890625e-05, 3.504753112792969e-05, 4.38690185546875e-05, 8.702278137207031e-05, 0.00013113021850585938, 0.00021076202392578125, 0.002599954605102539, 0.0006377696990966797, 0.0007619857788085938, 0.0012280941009521484, 0.0024907588958740234, 0.0038290023803710938, 0.004148960113525391, 0.004149198532104492, 0.011345863342285156, 0.011317014694213867, 0.01679086685180664, 0.026526927947998047, 0.03645896911621094], 'Iterativo': [3.0994415283203125e-06, 9.5367431640625e-07, 0.0, 9.5367431640625e-07, 0.0, 1.1920928955078125e-06, 0.0, 9.5367431640625e-07, 0.0, 7.152557373046875e-07, 9.5367431640625e-07, 0.0, 9.5367431640625e-07, 1.1920928955078125e-06, 9.5367431640625e-07, 9.5367431640625e-07, 1.1920928955078125e-06, 9.5367431640625e-07, 9.5367431640625e-07, 9.5367431640625e-07, 9.5367431640625e-07, 9.5367431640625e-07, 2.1457672119140625e-06, 9.5367431640625e-07, 9.5367431640625e-07, 2.1457672119140625e-06, 9.5367431640625e-07, 2.1457672119140625e-06, 7.152557373046875e-07]}\n"
     ]
    },
    {
     "data": {
      "text/html": [
       "<div>\n",
       "<style scoped>\n",
       "    .dataframe tbody tr th:only-of-type {\n",
       "        vertical-align: middle;\n",
       "    }\n",
       "\n",
       "    .dataframe tbody tr th {\n",
       "        vertical-align: top;\n",
       "    }\n",
       "\n",
       "    .dataframe thead th {\n",
       "        text-align: right;\n",
       "    }\n",
       "</style>\n",
       "<table border=\"1\" class=\"dataframe\">\n",
       "  <thead>\n",
       "    <tr style=\"text-align: right;\">\n",
       "      <th></th>\n",
       "      <th>Recursivo</th>\n",
       "      <th>Iterativo</th>\n",
       "    </tr>\n",
       "  </thead>\n",
       "  <tbody>\n",
       "    <tr>\n",
       "      <th>1</th>\n",
       "      <td>0.000005245208740</td>\n",
       "      <td>0.000003099441528</td>\n",
       "    </tr>\n",
       "    <tr>\n",
       "      <th>2</th>\n",
       "      <td>0.000000000000000</td>\n",
       "      <td>0.000000953674316</td>\n",
       "    </tr>\n",
       "    <tr>\n",
       "      <th>3</th>\n",
       "      <td>0.000001907348633</td>\n",
       "      <td>0.000000000000000</td>\n",
       "    </tr>\n",
       "    <tr>\n",
       "      <th>4</th>\n",
       "      <td>0.000000953674316</td>\n",
       "      <td>0.000000953674316</td>\n",
       "    </tr>\n",
       "    <tr>\n",
       "      <th>5</th>\n",
       "      <td>0.000001907348633</td>\n",
       "      <td>0.000000000000000</td>\n",
       "    </tr>\n",
       "    <tr>\n",
       "      <th>6</th>\n",
       "      <td>0.000002145767212</td>\n",
       "      <td>0.000001192092896</td>\n",
       "    </tr>\n",
       "    <tr>\n",
       "      <th>7</th>\n",
       "      <td>0.000002861022949</td>\n",
       "      <td>0.000000000000000</td>\n",
       "    </tr>\n",
       "    <tr>\n",
       "      <th>8</th>\n",
       "      <td>0.000004768371582</td>\n",
       "      <td>0.000000953674316</td>\n",
       "    </tr>\n",
       "    <tr>\n",
       "      <th>9</th>\n",
       "      <td>0.000006914138794</td>\n",
       "      <td>0.000000000000000</td>\n",
       "    </tr>\n",
       "    <tr>\n",
       "      <th>10</th>\n",
       "      <td>0.000010013580322</td>\n",
       "      <td>0.000000715255737</td>\n",
       "    </tr>\n",
       "    <tr>\n",
       "      <th>11</th>\n",
       "      <td>0.000016212463379</td>\n",
       "      <td>0.000000953674316</td>\n",
       "    </tr>\n",
       "    <tr>\n",
       "      <th>12</th>\n",
       "      <td>0.000035047531128</td>\n",
       "      <td>0.000000000000000</td>\n",
       "    </tr>\n",
       "    <tr>\n",
       "      <th>13</th>\n",
       "      <td>0.000043869018555</td>\n",
       "      <td>0.000000953674316</td>\n",
       "    </tr>\n",
       "    <tr>\n",
       "      <th>14</th>\n",
       "      <td>0.000087022781372</td>\n",
       "      <td>0.000001192092896</td>\n",
       "    </tr>\n",
       "    <tr>\n",
       "      <th>15</th>\n",
       "      <td>0.000131130218506</td>\n",
       "      <td>0.000000953674316</td>\n",
       "    </tr>\n",
       "    <tr>\n",
       "      <th>16</th>\n",
       "      <td>0.000210762023926</td>\n",
       "      <td>0.000000953674316</td>\n",
       "    </tr>\n",
       "    <tr>\n",
       "      <th>17</th>\n",
       "      <td>0.002599954605103</td>\n",
       "      <td>0.000001192092896</td>\n",
       "    </tr>\n",
       "    <tr>\n",
       "      <th>18</th>\n",
       "      <td>0.000637769699097</td>\n",
       "      <td>0.000000953674316</td>\n",
       "    </tr>\n",
       "    <tr>\n",
       "      <th>19</th>\n",
       "      <td>0.000761985778809</td>\n",
       "      <td>0.000000953674316</td>\n",
       "    </tr>\n",
       "    <tr>\n",
       "      <th>20</th>\n",
       "      <td>0.001228094100952</td>\n",
       "      <td>0.000000953674316</td>\n",
       "    </tr>\n",
       "    <tr>\n",
       "      <th>21</th>\n",
       "      <td>0.002490758895874</td>\n",
       "      <td>0.000000953674316</td>\n",
       "    </tr>\n",
       "    <tr>\n",
       "      <th>22</th>\n",
       "      <td>0.003829002380371</td>\n",
       "      <td>0.000000953674316</td>\n",
       "    </tr>\n",
       "    <tr>\n",
       "      <th>23</th>\n",
       "      <td>0.004148960113525</td>\n",
       "      <td>0.000002145767212</td>\n",
       "    </tr>\n",
       "    <tr>\n",
       "      <th>24</th>\n",
       "      <td>0.004149198532104</td>\n",
       "      <td>0.000000953674316</td>\n",
       "    </tr>\n",
       "    <tr>\n",
       "      <th>25</th>\n",
       "      <td>0.011345863342285</td>\n",
       "      <td>0.000000953674316</td>\n",
       "    </tr>\n",
       "    <tr>\n",
       "      <th>26</th>\n",
       "      <td>0.011317014694214</td>\n",
       "      <td>0.000002145767212</td>\n",
       "    </tr>\n",
       "    <tr>\n",
       "      <th>27</th>\n",
       "      <td>0.016790866851807</td>\n",
       "      <td>0.000000953674316</td>\n",
       "    </tr>\n",
       "    <tr>\n",
       "      <th>28</th>\n",
       "      <td>0.026526927947998</td>\n",
       "      <td>0.000002145767212</td>\n",
       "    </tr>\n",
       "    <tr>\n",
       "      <th>29</th>\n",
       "      <td>0.036458969116211</td>\n",
       "      <td>0.000000715255737</td>\n",
       "    </tr>\n",
       "  </tbody>\n",
       "</table>\n",
       "</div>"
      ],
      "text/plain": [
       "            Recursivo          Iterativo\n",
       "1   0.000005245208740  0.000003099441528\n",
       "2   0.000000000000000  0.000000953674316\n",
       "3   0.000001907348633  0.000000000000000\n",
       "4   0.000000953674316  0.000000953674316\n",
       "5   0.000001907348633  0.000000000000000\n",
       "6   0.000002145767212  0.000001192092896\n",
       "7   0.000002861022949  0.000000000000000\n",
       "8   0.000004768371582  0.000000953674316\n",
       "9   0.000006914138794  0.000000000000000\n",
       "10  0.000010013580322  0.000000715255737\n",
       "11  0.000016212463379  0.000000953674316\n",
       "12  0.000035047531128  0.000000000000000\n",
       "13  0.000043869018555  0.000000953674316\n",
       "14  0.000087022781372  0.000001192092896\n",
       "15  0.000131130218506  0.000000953674316\n",
       "16  0.000210762023926  0.000000953674316\n",
       "17  0.002599954605103  0.000001192092896\n",
       "18  0.000637769699097  0.000000953674316\n",
       "19  0.000761985778809  0.000000953674316\n",
       "20  0.001228094100952  0.000000953674316\n",
       "21  0.002490758895874  0.000000953674316\n",
       "22  0.003829002380371  0.000000953674316\n",
       "23  0.004148960113525  0.000002145767212\n",
       "24  0.004149198532104  0.000000953674316\n",
       "25  0.011345863342285  0.000000953674316\n",
       "26  0.011317014694214  0.000002145767212\n",
       "27  0.016790866851807  0.000000953674316\n",
       "28  0.026526927947998  0.000002145767212\n",
       "29  0.036458969116211  0.000000715255737"
      ]
     },
     "metadata": {},
     "output_type": "display_data"
    }
   ],
   "source": [
    "# Diccionario de tiempos de ejecución\n",
    "execution_times = {\"Recursivo\": [], \"Iterativo\": []}\n",
    "\n",
    "# Calcular tiempos \n",
    "for n in range(1, 30):\n",
    "    start_time = time.time()\n",
    "    fibonacci(n)\n",
    "    execution_times[\"Recursivo\"].append(time.time() - start_time)\n",
    "\n",
    "for n in range(1, 30):\n",
    "    start_time2 = time.time()\n",
    "    fibonacci2(n)\n",
    "    execution_times[\"Iterativo\"].append(time.time() - start_time2)\n",
    "\n",
    "print(execution_times)\n",
    "\n",
    "# Crear Data Frame\n",
    "\n",
    "df = pd.DataFrame(execution_times)\n",
    "df.index = range(1, len(df) + 1)\n",
    "pd.set_option('display.precision', 15)\n",
    "display(df)\n"
   ]
  },
  {
   "cell_type": "code",
   "execution_count": 64,
   "metadata": {},
   "outputs": [
    {
     "data": {
      "image/png": "[encoded data removed]",
      "text/plain": [
       "<Figure size 640x480 with 1 Axes>"
      ]
     },
     "metadata": {},
     "output_type": "display_data"
    }
   ],
   "source": [
    "# Casos positivos por día\n",
    "\n",
    "# Cambiar formato fecha\n",
    "\n",
    "\n",
    "ax=df.plot(style=[\"r-\"], title=\"Tiempo de cómputo en función del número de términos\",linewidth=1)\n",
    "ax.set_xlabel(\"Número de términos\")\n",
    "ax.set_ylabel(\"Tiempo\")\n",
    "plt.show()"
   ]
  },
  {
   "cell_type": "markdown",
   "metadata": {
    "id": "RgT5XJsZ429L"
   },
   "source": [
    "## Devolución de cambio por técnica voraz\n",
    "\n",
    "Resuelve el [Problema del Cambio de Moneda](https://es.wikipedia.org/wiki/Problema_de_cambio_de_monedas) utilizando una técnica voraz."
   ]
  },
  {
   "cell_type": "code",
   "execution_count": 53,
   "metadata": {
    "colab": {
     "base_uri": "https://localhost:8080/"
    },
    "id": "uJtftBLU4-ap",
    "outputId": "b52f7a2c-771b-4c2e-81ab-c4c3ea01318d"
   },
   "outputs": [
    {
     "name": "stdin",
     "output_type": "stream",
     "text": [
      "Indicar el precio:  25\n"
     ]
    },
    {
     "name": "stdout",
     "output_type": "stream",
     "text": [
      "[7, 7, 7, 4]\n"
     ]
    }
   ],
   "source": [
    "# Problema del cambio de moneda\n",
    "\n",
    "def cambio(*entrada):\n",
    "    C = entrada[0]\n",
    "    sistema = []\n",
    "    for p in entrada:\n",
    "        sistema.append(p)\n",
    "    sistema = sistema[1:]    \n",
    "    sistema.append(1)\n",
    "    sistema.sort(reverse = True)\n",
    "    \n",
    "    \n",
    "    sol = [] \n",
    "    resto = C\n",
    "    \n",
    "    for moneda in sistema:\n",
    "    \n",
    "        while moneda <= resto:\n",
    "            sol.append(moneda)\n",
    "            resto -= moneda\n",
    "                      \n",
    "    \n",
    "    return sol\n",
    "\n",
    "precio = int(input(\"Indicar el precio: \"))\n",
    "\n",
    "# El algoritmo está preparado para recibir tantas monedas como se desee\n",
    "\n",
    "print(cambio(precio,7,4,2,5))\n",
    "\n",
    "# Este ejemplo es con cuatro monedas pero se aceptan tantas como tenga el sistema monetario deaseado"
   ]
  },
  {
   "cell_type": "markdown",
   "metadata": {
    "id": "g8M9GTvy_Fa3"
   },
   "source": [
    "## N-Reinas por técnica de vuelta atrás\n",
    "Resuelve el [Problema de las N-Reinas](https://es.wikipedia.org/wiki/Problema_de_las_ocho_reinas) en un tablero de dimensión N mediante la técnica de la vuelta atrás (backtraking)."
   ]
  },
  {
   "cell_type": "code",
   "execution_count": 165,
   "metadata": {
    "id": "FqOPyCmv_K65"
   },
   "outputs": [],
   "source": [
    "# Problema de las N-Reinas\n",
    "\n",
    "# La función reinas verifica que no haya dos reinas en la misma fila y devuelve una lista de listas soluciones.\n",
    "\n",
    "def reinas():\n",
    "\n",
    "    tablero = [0,0,0,0]\n",
    "    solfilas = []\n",
    "   \n",
    "    for i in range(1,5):\n",
    "        tablero[0]=i\n",
    "        \n",
    "        for j in range(1,5):\n",
    "            if tablero[0]==j:\n",
    "                continue \n",
    "            else:\n",
    "                tablero[1]=j\n",
    "                \n",
    "                for k in range(1,5):\n",
    "                    if (tablero[1]==k) or (tablero[0]==k):\n",
    "                        continue \n",
    "                    else:\n",
    "                        tablero[2]=k\n",
    "                        \n",
    "                        for l in range(1,5):\n",
    "                            if (tablero[2]==l) or (tablero[1]==l) or (tablero[0]==l):\n",
    "                                continue \n",
    "                            else:\n",
    "                                tablero[3]=l\n",
    "                                solfilas.append(tablero.copy())\n",
    "\n",
    "    return solfilas\n",
    "\n",
    "# Guardamos el conjunto de solciones en una variable \"solfilas\"\n",
    "solfilas = reinas()"
   ]
  },
  {
   "cell_type": "code",
   "execution_count": 168,
   "metadata": {},
   "outputs": [],
   "source": [
    "# A partir de la lista de listas, iteremos sobre cada una y verificamos si hay reinas en la misma diagonal con la\n",
    "# expresión |xi - xj | = |i - j|\n",
    "\n",
    "def  reinasdiagonal(solfilas):\n",
    "    sol= []\n",
    "    for propuestas in solfilas:\n",
    "        comprobacion= []\n",
    "        \n",
    "        for m in range(len(propuestas)):\n",
    "            \n",
    "            for n in range(m+1, len(propuestas)): \n",
    "                if abs(propuestas[m] - propuestas[m+1]) == abs(n - (n+1)):\n",
    "                    comprobacion.append(0)\n",
    "                \n",
    "                else:\n",
    "                    comprobacion.append(1)\n",
    "        \n",
    "        if np.array(comprobacion).sum() == 6:\n",
    "            sol.append(propuestas)\n",
    "    return sol\n",
    "    \n"
   ]
  },
  {
   "cell_type": "code",
   "execution_count": 170,
   "metadata": {},
   "outputs": [
    {
     "name": "stdout",
     "output_type": "stream",
     "text": [
      "[[2, 4, 1, 3], [3, 1, 4, 2]]\n"
     ]
    }
   ],
   "source": [
    "# Finalmente llamamos a la función reinasdiagonal a partir de las soluciones encontradas con la función de verificación de filas\n",
    "\n",
    "print(reinasdiagonal(solfilas))"
   ]
  }
 ],
 "metadata": {
  "colab": {
   "provenance": [],
   "toc_visible": true
  },
  "kernelspec": {
   "display_name": "Python 3 (ipykernel)",
   "language": "python",
   "name": "python3"
  },
  "language_info": {
   "codemirror_mode": {
    "name": "ipython",
    "version": 3
   },
   "file_extension": ".py",
   "mimetype": "text/x-python",
   "name": "python",
   "nbconvert_exporter": "python",
   "pygments_lexer": "ipython3",
   "version": "3.11.5"
  }
 },
 "nbformat": 4,
 "nbformat_minor": 4
}
